{
 "cells": [
  {
   "cell_type": "code",
   "execution_count": 2,
   "id": "4651c1ce-9201-4138-b6ff-e37764b06974",
   "metadata": {},
   "outputs": [],
   "source": [
    "from src import typy\n",
    "import numpy as np"
   ]
  },
  {
   "cell_type": "code",
   "execution_count": 3,
   "id": "30483577-6cae-4777-b286-3e04e3e4a81a",
   "metadata": {},
   "outputs": [],
   "source": [
    "G=[0.0,0.0,0.0]\n",
    "M=[0,1/2,0]\n",
    "K=[1/3,1/3,0]\n",
    "corners=np.array([G,M,K,G])"
   ]
  },
  {
   "cell_type": "code",
   "execution_count": 4,
   "id": "fd01c969-4d7d-4618-918c-f402e846befe",
   "metadata": {},
   "outputs": [],
   "source": [
    "points,path = typy.path_create(2000,corners)"
   ]
  },
  {
   "cell_type": "code",
   "execution_count": 5,
   "id": "48e7db97-f7b9-4af7-8d15-7719290f2435",
   "metadata": {},
   "outputs": [
    {
     "data": {
      "text/plain": [
       "array([   0,  744, 1299, 2000])"
      ]
     },
     "execution_count": 5,
     "metadata": {},
     "output_type": "execute_result"
    }
   ],
   "source": [
    "points"
   ]
  },
  {
   "cell_type": "code",
   "execution_count": null,
   "id": "2eed6411-6baa-45d9-8f22-2759096dad64",
   "metadata": {},
   "outputs": [],
   "source": []
  },
  {
   "cell_type": "code",
   "execution_count": 36,
   "id": "a13f8436-24e7-4a9d-9fb1-28349dacc05b",
   "metadata": {},
   "outputs": [
    {
     "ename": "SyntaxError",
     "evalue": "incomplete input (67617084.py, line 2)",
     "output_type": "error",
     "traceback": [
      "\u001b[0;36m  Cell \u001b[0;32mIn[36], line 2\u001b[0;36m\u001b[0m\n\u001b[0;31m    # print (i[0],i[1],i[2],1/len(path))\u001b[0m\n\u001b[0m                                        ^\u001b[0m\n\u001b[0;31mSyntaxError\u001b[0m\u001b[0;31m:\u001b[0m incomplete input\n"
     ]
    }
   ],
   "source": [
    "for i in path:\n",
    "    # print (i[0],i[1],i[2],1/len(path))"
   ]
  },
  {
   "cell_type": "code",
   "execution_count": 6,
   "id": "a9db3f17-70e4-4aff-ab82-94c716e3a213",
   "metadata": {},
   "outputs": [],
   "source": [
    "with open(\"/work/bansil/s.sevim/0_spaces/GMKG_2000.path\", 'w') as file:\n",
    "    file.write(f\"{len(path)} crystal \\n\")\n",
    "    for i in path:\n",
    "      file.write(f\"{i[0]} {i[1]} {i[2]} {1/len(path)} \\n\")"
   ]
  },
  {
   "cell_type": "code",
   "execution_count": null,
   "id": "3a872356-6cd9-4590-85ef-f63e04a5213a",
   "metadata": {},
   "outputs": [],
   "source": []
  }
 ],
 "metadata": {
  "kernelspec": {
   "display_name": "Python 3 (ipykernel)",
   "language": "python",
   "name": "python3"
  },
  "language_info": {
   "codemirror_mode": {
    "name": "ipython",
    "version": 3
   },
   "file_extension": ".py",
   "mimetype": "text/x-python",
   "name": "python",
   "nbconvert_exporter": "python",
   "pygments_lexer": "ipython3",
   "version": "3.11.5"
  }
 },
 "nbformat": 4,
 "nbformat_minor": 5
}
